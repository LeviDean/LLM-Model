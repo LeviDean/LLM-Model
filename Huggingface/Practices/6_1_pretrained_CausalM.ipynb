{
 "cells": [
  {
   "cell_type": "code",
   "execution_count": 16,
   "metadata": {},
   "outputs": [],
   "source": [
    "import os\n",
    "os.environ[\"http_proxy\"] = \"http://127.0.0.1:8889\"\n",
    "os.environ[\"https_proxy\"] = \"http://127.0.0.1:8889\""
   ]
  },
  {
   "cell_type": "code",
   "execution_count": 17,
   "metadata": {},
   "outputs": [],
   "source": [
    "from transformers import AutoTokenizer, AutoModelForCausalLM, DataCollatorForLanguageModeling, Trainer, TrainingArguments\n",
    "from datasets import load_dataset, DatasetDict, Dataset\n",
    "import datasets"
   ]
  },
  {
   "cell_type": "code",
   "execution_count": 18,
   "metadata": {},
   "outputs": [],
   "source": [
    "# ds = load_dataset(\"pleisto/wikipedia-cn-20230720-filtered\")\n",
    "ds = DatasetDict.load_from_disk(\"datasets/wikipedia-cn-20230720-filtered\")\n",
    "ds = Dataset.from_dict(ds[\"train\"][:3000])\n"
   ]
  },
  {
   "cell_type": "code",
   "execution_count": 19,
   "metadata": {},
   "outputs": [
    {
     "data": {
      "text/plain": [
       "Dataset({\n",
       "    features: ['source', 'completion'],\n",
       "    num_rows: 3000\n",
       "})"
      ]
     },
     "execution_count": 19,
     "metadata": {},
     "output_type": "execute_result"
    }
   ],
   "source": [
    "ds"
   ]
  },
  {
   "cell_type": "code",
   "execution_count": 20,
   "metadata": {},
   "outputs": [
    {
     "data": {
      "text/plain": [
       "{'source': 'wikipedia.zh2307',\n",
       " 'completion': '昭通机场（ZPZT）是位于中国云南昭通的民用机场，始建于1935年，1960年3月开通往返航班“昆明－昭通”，原来属军民合用机场。1986年机场停止使用。1991年11月扩建，于1994年2月恢复通航。是西南地区「文明机场」，通航城市昆明。 机场占地1957亩，飞行区等级为4C，有一条跑道，长2720米，宽48米，可供波音737及以下机型起降。机坪面积6600平方米，停机位2个，航站楼面积1900平方米。位于城东6公里处，民航路与金鹰大道交叉处。\\n航点\\n客服电话\\n昭通机场客服电话：0870-2830004'}"
      ]
     },
     "execution_count": 20,
     "metadata": {},
     "output_type": "execute_result"
    }
   ],
   "source": [
    "ds[0]"
   ]
  },
  {
   "cell_type": "code",
   "execution_count": 21,
   "metadata": {},
   "outputs": [],
   "source": [
    "tokenizer = AutoTokenizer.from_pretrained(\"Langboat/bloom-389m-zh\")\n",
    "\n",
    "def process_func(examples):\n",
    "    contents = [e + tokenizer.eos_token for e in examples[\"completion\"]]\n",
    "    return tokenizer(contents, max_length=128, truncation=True)"
   ]
  },
  {
   "cell_type": "code",
   "execution_count": 22,
   "metadata": {},
   "outputs": [
    {
     "name": "stderr",
     "output_type": "stream",
     "text": [
      "Map:   0%|          | 0/3000 [00:00<?, ? examples/s]"
     ]
    },
    {
     "name": "stderr",
     "output_type": "stream",
     "text": [
      "Map: 100%|██████████| 3000/3000 [00:00<00:00, 9858.79 examples/s]\n"
     ]
    },
    {
     "data": {
      "text/plain": [
       "Dataset({\n",
       "    features: ['input_ids', 'attention_mask'],\n",
       "    num_rows: 3000\n",
       "})"
      ]
     },
     "execution_count": 22,
     "metadata": {},
     "output_type": "execute_result"
    }
   ],
   "source": [
    "tokenized_ds = ds.map(process_func, batched=True, remove_columns=ds.column_names)\n",
    "tokenized_ds"
   ]
  },
  {
   "cell_type": "code",
   "execution_count": 23,
   "metadata": {},
   "outputs": [],
   "source": [
    "from torch.utils.data import DataLoader\n",
    "\n",
    "dl = DataLoader(tokenized_ds, batch_size=2, collate_fn=DataCollatorForLanguageModeling(tokenizer, mlm=False))"
   ]
  },
  {
   "cell_type": "code",
   "execution_count": 24,
   "metadata": {},
   "outputs": [
    {
     "name": "stderr",
     "output_type": "stream",
     "text": [
      "You're using a BloomTokenizerFast tokenizer. Please note that with a fast tokenizer, using the `__call__` method is faster than using a method to encode the text followed by a call to the `pad` method to get a padded encoding.\n"
     ]
    },
    {
     "data": {
      "text/plain": [
       "(0,\n",
       " {'input_ids': tensor([[ 8948,  1262,  9971,   916,    61,    51, 21447,  6496,  5317,  2140,\n",
       "          15952,  8948, 32923, 23296,  9971,   355, 39145, 31097,   355, 11747,\n",
       "          12196,  1359, 18943,  5612, 17102,  1006, 21189,  4571,  8948,  1262,\n",
       "            755,   355, 14122,  3157,  1920,  1157,  1038,   866,  9971,   420,\n",
       "          20446,  9971,  8979,  2436,   420, 11823,  4621, 26650,   355,   937,\n",
       "          11121,  5216,  7442,  1262,  3891,   420,   583, 10051,  3728,  1258,\n",
       "          11358,  9971,  1263,   355,  1262,  3891,  4845, 21189,   420,   210,\n",
       "           9971, 18398, 23055, 15229,   355, 11968,  1473, 14861, 34739,    38,\n",
       "            355, 38274, 24049,   355,  1490,  2057,  1393,  2211,   355,  8124,\n",
       "           2524,  2211,   355, 21761, 23861, 23527,  1107,  4744, 37360,  1491,\n",
       "           3796,   420,  1366, 10937,  6272,  2568,   462, 12640,   355,  3924,\n",
       "           1366,  1389, 14931,   355, 39662,  6272, 18627, 12640,   420,  5317,\n",
       "           2039,  2073, 38097,  1965,   355, 24077,  1599,  1210],\n",
       "         [ 3502,  9784,  6663,  1022,  9784,  1028,  6868,   189,  1125,  3502,\n",
       "           9784,  6663, 25767,  3097,  1022,  9784,  1028,  6868,  7093, 19570,\n",
       "           8439,  2332,   230, 15501,   245,  7736, 14573, 20870, 26460, 26136,\n",
       "          14573,  8177,   435,  9644,  8577, 12154,   230, 15501,   245,  7736,\n",
       "          34550,    29, 34209, 17420, 35775,   915, 29982,   937,  8088,  3997,\n",
       "           9488, 15968, 30948, 13490,  6213,   355,  1293,  1490, 13870,  4128,\n",
       "           1807, 28059,   553,  3408,  4048,  3982,  4026, 25434,   355, 19889,\n",
       "           1050,  3571, 16201,   905, 34717,  2910, 12879,  1343, 33703, 16201,\n",
       "           5663,  1125,  3502,  9784,  6663,  1121,   355, 30282,   924,  5663,\n",
       "           2965,   968,  6213,  3097,   671, 31291,   189, 24984,  6213,  5128,\n",
       "           8367,   775,  9245, 34717,  2910, 12879,  1343,  3653,  2759, 16390,\n",
       "           3707,  6398,   355, 32602,  1258, 20345,  6213,  3097, 15384, 35475,\n",
       "          35151,  1125,  3502,  9784,  6663,  5882, 22961,   657]]), 'attention_mask': tensor([[1, 1, 1, 1, 1, 1, 1, 1, 1, 1, 1, 1, 1, 1, 1, 1, 1, 1, 1, 1, 1, 1, 1, 1,\n",
       "          1, 1, 1, 1, 1, 1, 1, 1, 1, 1, 1, 1, 1, 1, 1, 1, 1, 1, 1, 1, 1, 1, 1, 1,\n",
       "          1, 1, 1, 1, 1, 1, 1, 1, 1, 1, 1, 1, 1, 1, 1, 1, 1, 1, 1, 1, 1, 1, 1, 1,\n",
       "          1, 1, 1, 1, 1, 1, 1, 1, 1, 1, 1, 1, 1, 1, 1, 1, 1, 1, 1, 1, 1, 1, 1, 1,\n",
       "          1, 1, 1, 1, 1, 1, 1, 1, 1, 1, 1, 1, 1, 1, 1, 1, 1, 1, 1, 1, 1, 1, 1, 1,\n",
       "          1, 1, 1, 1, 1, 1, 1, 1],\n",
       "         [1, 1, 1, 1, 1, 1, 1, 1, 1, 1, 1, 1, 1, 1, 1, 1, 1, 1, 1, 1, 1, 1, 1, 1,\n",
       "          1, 1, 1, 1, 1, 1, 1, 1, 1, 1, 1, 1, 1, 1, 1, 1, 1, 1, 1, 1, 1, 1, 1, 1,\n",
       "          1, 1, 1, 1, 1, 1, 1, 1, 1, 1, 1, 1, 1, 1, 1, 1, 1, 1, 1, 1, 1, 1, 1, 1,\n",
       "          1, 1, 1, 1, 1, 1, 1, 1, 1, 1, 1, 1, 1, 1, 1, 1, 1, 1, 1, 1, 1, 1, 1, 1,\n",
       "          1, 1, 1, 1, 1, 1, 1, 1, 1, 1, 1, 1, 1, 1, 1, 1, 1, 1, 1, 1, 1, 1, 1, 1,\n",
       "          1, 1, 1, 1, 1, 1, 1, 1]]), 'labels': tensor([[ 8948,  1262,  9971,   916,    61,    51, 21447,  6496,  5317,  2140,\n",
       "          15952,  8948, 32923, 23296,  9971,   355, 39145, 31097,   355, 11747,\n",
       "          12196,  1359, 18943,  5612, 17102,  1006, 21189,  4571,  8948,  1262,\n",
       "            755,   355, 14122,  3157,  1920,  1157,  1038,   866,  9971,   420,\n",
       "          20446,  9971,  8979,  2436,   420, 11823,  4621, 26650,   355,   937,\n",
       "          11121,  5216,  7442,  1262,  3891,   420,   583, 10051,  3728,  1258,\n",
       "          11358,  9971,  1263,   355,  1262,  3891,  4845, 21189,   420,   210,\n",
       "           9971, 18398, 23055, 15229,   355, 11968,  1473, 14861, 34739,    38,\n",
       "            355, 38274, 24049,   355,  1490,  2057,  1393,  2211,   355,  8124,\n",
       "           2524,  2211,   355, 21761, 23861, 23527,  1107,  4744, 37360,  1491,\n",
       "           3796,   420,  1366, 10937,  6272,  2568,   462, 12640,   355,  3924,\n",
       "           1366,  1389, 14931,   355, 39662,  6272, 18627, 12640,   420,  5317,\n",
       "           2039,  2073, 38097,  1965,   355, 24077,  1599,  1210],\n",
       "         [ 3502,  9784,  6663,  1022,  9784,  1028,  6868,   189,  1125,  3502,\n",
       "           9784,  6663, 25767,  3097,  1022,  9784,  1028,  6868,  7093, 19570,\n",
       "           8439,  2332,   230, 15501,   245,  7736, 14573, 20870, 26460, 26136,\n",
       "          14573,  8177,   435,  9644,  8577, 12154,   230, 15501,   245,  7736,\n",
       "          34550,    29, 34209, 17420, 35775,   915, 29982,   937,  8088,  3997,\n",
       "           9488, 15968, 30948, 13490,  6213,   355,  1293,  1490, 13870,  4128,\n",
       "           1807, 28059,   553,  3408,  4048,  3982,  4026, 25434,   355, 19889,\n",
       "           1050,  3571, 16201,   905, 34717,  2910, 12879,  1343, 33703, 16201,\n",
       "           5663,  1125,  3502,  9784,  6663,  1121,   355, 30282,   924,  5663,\n",
       "           2965,   968,  6213,  3097,   671, 31291,   189, 24984,  6213,  5128,\n",
       "           8367,   775,  9245, 34717,  2910, 12879,  1343,  3653,  2759, 16390,\n",
       "           3707,  6398,   355, 32602,  1258, 20345,  6213,  3097, 15384, 35475,\n",
       "          35151,  1125,  3502,  9784,  6663,  5882, 22961,   657]])})"
      ]
     },
     "execution_count": 24,
     "metadata": {},
     "output_type": "execute_result"
    }
   ],
   "source": [
    "next(enumerate(dl))"
   ]
  },
  {
   "cell_type": "code",
   "execution_count": 25,
   "metadata": {},
   "outputs": [],
   "source": [
    "model = AutoModelForCausalLM.from_pretrained(\"Langboat/bloom-389m-zh\")"
   ]
  },
  {
   "cell_type": "code",
   "execution_count": 39,
   "metadata": {},
   "outputs": [],
   "source": [
    "training_args = TrainingArguments(\n",
    "    output_dir=\"./models/macbert\",\n",
    "    per_device_train_batch_size=8,\n",
    "    gradient_accumulation_steps=8,\n",
    "    logging_steps=10,\n",
    "    num_train_epochs=1,\n",
    ")"
   ]
  },
  {
   "cell_type": "code",
   "execution_count": 40,
   "metadata": {},
   "outputs": [],
   "source": [
    "trainer = Trainer(\n",
    "    args=training_args,\n",
    "    model=model,\n",
    "    train_dataset=tokenized_ds,\n",
    "    data_collator=DataCollatorForLanguageModeling(tokenizer, mlm=False),\n",
    ")"
   ]
  },
  {
   "cell_type": "code",
   "execution_count": 41,
   "metadata": {},
   "outputs": [
    {
     "data": {
      "text/plain": [
       "device(type='cuda', index=0)"
      ]
     },
     "execution_count": 41,
     "metadata": {},
     "output_type": "execute_result"
    }
   ],
   "source": [
    "model.device"
   ]
  },
  {
   "cell_type": "code",
   "execution_count": 42,
   "metadata": {},
   "outputs": [
    {
     "data": {
      "text/html": [
       "\n",
       "    <div>\n",
       "      \n",
       "      <progress value='46' max='46' style='width:300px; height:20px; vertical-align: middle;'></progress>\n",
       "      [46/46 01:21, Epoch 0/1]\n",
       "    </div>\n",
       "    <table border=\"1\" class=\"dataframe\">\n",
       "  <thead>\n",
       " <tr style=\"text-align: left;\">\n",
       "      <th>Step</th>\n",
       "      <th>Training Loss</th>\n",
       "    </tr>\n",
       "  </thead>\n",
       "  <tbody>\n",
       "    <tr>\n",
       "      <td>10</td>\n",
       "      <td>3.443300</td>\n",
       "    </tr>\n",
       "    <tr>\n",
       "      <td>20</td>\n",
       "      <td>4.159800</td>\n",
       "    </tr>\n",
       "    <tr>\n",
       "      <td>30</td>\n",
       "      <td>3.858900</td>\n",
       "    </tr>\n",
       "    <tr>\n",
       "      <td>40</td>\n",
       "      <td>3.778100</td>\n",
       "    </tr>\n",
       "  </tbody>\n",
       "</table><p>"
      ],
      "text/plain": [
       "<IPython.core.display.HTML object>"
      ]
     },
     "metadata": {},
     "output_type": "display_data"
    },
    {
     "data": {
      "text/plain": [
       "TrainOutput(global_step=46, training_loss=3.7952080602231235, metrics={'train_runtime': 83.469, 'train_samples_per_second': 35.941, 'train_steps_per_second': 0.551, 'total_flos': 683528341684224.0, 'train_loss': 3.7952080602231235, 'epoch': 0.98})"
      ]
     },
     "execution_count": 42,
     "metadata": {},
     "output_type": "execute_result"
    }
   ],
   "source": [
    "# free gpu mem\n",
    "import torch\n",
    "torch.cuda.empty_cache()\n",
    "\n",
    "trainer.train()"
   ]
  },
  {
   "cell_type": "code",
   "execution_count": 44,
   "metadata": {},
   "outputs": [],
   "source": [
    "from transformers import pipeline\n",
    "\n",
    "pipe = pipeline(\"text-generation\", model=model, tokenizer=tokenizer, device=0)"
   ]
  },
  {
   "cell_type": "code",
   "execution_count": 47,
   "metadata": {},
   "outputs": [
    {
     "data": {
      "text/plain": [
       "[{'generated_text': '杭州市一个美丽的旅游景区，位于广东省深圳南山经济区）南滨路街道，由深圳市南山区旅游发展委员会管理，于2014年建成，面积约为3平方公里，建筑面积约为12万平方米。与深圳南山南山新区联合运营。该景区于2013年12月23日开幕，为南山区首家景区。\\n历史\\n该景区前身是于1964年的北滨步行街。南山区政府将该景区以石城为主题，修建石垣、石墙、石柱等，并以“石城'}]"
      ]
     },
     "execution_count": 47,
     "metadata": {},
     "output_type": "execute_result"
    }
   ],
   "source": [
    "pipe(\"杭州市一个美丽的\", max_length=100, do_sample=True) "
   ]
  },
  {
   "cell_type": "code",
   "execution_count": null,
   "metadata": {},
   "outputs": [],
   "source": []
  }
 ],
 "metadata": {
  "kernelspec": {
   "display_name": "llm",
   "language": "python",
   "name": "python3"
  },
  "language_info": {
   "codemirror_mode": {
    "name": "ipython",
    "version": 3
   },
   "file_extension": ".py",
   "mimetype": "text/x-python",
   "name": "python",
   "nbconvert_exporter": "python",
   "pygments_lexer": "ipython3",
   "version": "3.11.5"
  }
 },
 "nbformat": 4,
 "nbformat_minor": 2
}
